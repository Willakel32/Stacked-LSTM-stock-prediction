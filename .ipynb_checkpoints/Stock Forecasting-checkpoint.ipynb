{
 "cells": [
  {
   "cell_type": "markdown",
   "id": "7980cc5d-ee16-47cc-ab28-b03aa83b5a88",
   "metadata": {
    "tags": []
   },
   "source": [
    "### Data Collection ###"
   ]
  },
  {
   "cell_type": "code",
   "execution_count": 1,
   "id": "1b46e6f2-475a-4680-a78a-7a673b5870bd",
   "metadata": {},
   "outputs": [],
   "source": [
    "from tiingo import TiingoClient\n",
    "import pandas as pd\n",
    "import numpy as np\n",
    "import matplotlib.pyplot as plt\n",
    "import seaborn as sns\n",
    "from datetime import date\n",
    "import warnings\n",
    "warnings.filterwarnings('ignore')\n",
    "from dateutil.relativedelta import relativedelta\n",
    "config = {}\n",
    "\n",
    "config['session'] = True\n",
    "\n",
    "config['api_key'] = \"110ee73e29ec4269f49eb85cfb4b976ab8e73361\"\n",
    "\n",
    "client = TiingoClient(config)"
   ]
  },
  {
   "cell_type": "code",
   "execution_count": 4,
   "id": "1ee8e2fa-7623-400a-92c5-2ae53a73b021",
   "metadata": {},
   "outputs": [],
   "source": [
    "def download_financial_data(ticker):\n",
    "    fin_data = client.get_ticker_price(ticker,\n",
    "                                       fmt='csv',\n",
    "                                       startDate = date.today() - relativedelta(years=5),\n",
    "                                       endDate = date.today(),\n",
    "                                       frequency = 'daily')\n",
    "    file_name = f\"{ticker}.csv\"\n",
    "    with open(file_name,'w') as outfile:\n",
    "        outfile.write(fin_data)\n",
    "    print(f'{ticker}.csv created')\n",
    "    return pd.read_csv(f\"{ticker}.csv\")"
   ]
  },
  {
   "cell_type": "code",
   "execution_count": 52,
   "id": "17fcdff2-19df-45f2-b4f1-eae9d793f624",
   "metadata": {},
   "outputs": [
    {
     "name": "stdout",
     "output_type": "stream",
     "text": [
      "TLSA.csv created\n"
     ]
    }
   ],
   "source": [
    "df = download_financial_data('TLSA')"
   ]
  },
  {
   "cell_type": "code",
   "execution_count": 53,
   "id": "dd58d7ef-110c-4e2e-8874-e7048d57bee0",
   "metadata": {},
   "outputs": [
    {
     "data": {
      "text/html": [
       "<div>\n",
       "<style scoped>\n",
       "    .dataframe tbody tr th:only-of-type {\n",
       "        vertical-align: middle;\n",
       "    }\n",
       "\n",
       "    .dataframe tbody tr th {\n",
       "        vertical-align: top;\n",
       "    }\n",
       "\n",
       "    .dataframe thead th {\n",
       "        text-align: right;\n",
       "    }\n",
       "</style>\n",
       "<table border=\"1\" class=\"dataframe\">\n",
       "  <thead>\n",
       "    <tr style=\"text-align: right;\">\n",
       "      <th></th>\n",
       "      <th>date</th>\n",
       "      <th>close</th>\n",
       "      <th>high</th>\n",
       "      <th>low</th>\n",
       "      <th>open</th>\n",
       "      <th>volume</th>\n",
       "      <th>adjClose</th>\n",
       "      <th>adjHigh</th>\n",
       "      <th>adjLow</th>\n",
       "      <th>adjOpen</th>\n",
       "      <th>adjVolume</th>\n",
       "      <th>divCash</th>\n",
       "      <th>splitFactor</th>\n",
       "    </tr>\n",
       "  </thead>\n",
       "  <tbody>\n",
       "    <tr>\n",
       "      <th>0</th>\n",
       "      <td>2018-11-20</td>\n",
       "      <td>8.35</td>\n",
       "      <td>10.50</td>\n",
       "      <td>8.3500</td>\n",
       "      <td>10.50</td>\n",
       "      <td>17500</td>\n",
       "      <td>1.670668</td>\n",
       "      <td>2.100840</td>\n",
       "      <td>1.670668</td>\n",
       "      <td>2.100840</td>\n",
       "      <td>87465</td>\n",
       "      <td>0.0</td>\n",
       "      <td>1.0</td>\n",
       "    </tr>\n",
       "    <tr>\n",
       "      <th>1</th>\n",
       "      <td>2018-11-21</td>\n",
       "      <td>10.59</td>\n",
       "      <td>12.17</td>\n",
       "      <td>9.1900</td>\n",
       "      <td>9.19</td>\n",
       "      <td>7800</td>\n",
       "      <td>2.118848</td>\n",
       "      <td>2.434974</td>\n",
       "      <td>1.838735</td>\n",
       "      <td>1.838735</td>\n",
       "      <td>38984</td>\n",
       "      <td>0.0</td>\n",
       "      <td>1.0</td>\n",
       "    </tr>\n",
       "    <tr>\n",
       "      <th>2</th>\n",
       "      <td>2018-11-23</td>\n",
       "      <td>9.80</td>\n",
       "      <td>11.00</td>\n",
       "      <td>9.7927</td>\n",
       "      <td>11.00</td>\n",
       "      <td>3019</td>\n",
       "      <td>1.960784</td>\n",
       "      <td>2.200880</td>\n",
       "      <td>1.959324</td>\n",
       "      <td>2.200880</td>\n",
       "      <td>15088</td>\n",
       "      <td>0.0</td>\n",
       "      <td>1.0</td>\n",
       "    </tr>\n",
       "    <tr>\n",
       "      <th>3</th>\n",
       "      <td>2018-11-26</td>\n",
       "      <td>8.38</td>\n",
       "      <td>9.70</td>\n",
       "      <td>7.7600</td>\n",
       "      <td>9.70</td>\n",
       "      <td>5000</td>\n",
       "      <td>1.676671</td>\n",
       "      <td>1.940776</td>\n",
       "      <td>1.552621</td>\n",
       "      <td>1.940776</td>\n",
       "      <td>24990</td>\n",
       "      <td>0.0</td>\n",
       "      <td>1.0</td>\n",
       "    </tr>\n",
       "    <tr>\n",
       "      <th>4</th>\n",
       "      <td>2018-11-27</td>\n",
       "      <td>8.96</td>\n",
       "      <td>9.00</td>\n",
       "      <td>8.5000</td>\n",
       "      <td>8.80</td>\n",
       "      <td>4400</td>\n",
       "      <td>1.792717</td>\n",
       "      <td>1.800720</td>\n",
       "      <td>1.700680</td>\n",
       "      <td>1.760704</td>\n",
       "      <td>21991</td>\n",
       "      <td>0.0</td>\n",
       "      <td>1.0</td>\n",
       "    </tr>\n",
       "  </tbody>\n",
       "</table>\n",
       "</div>"
      ],
      "text/plain": [
       "         date  close   high     low   open  volume  adjClose   adjHigh  \\\n",
       "0  2018-11-20   8.35  10.50  8.3500  10.50   17500  1.670668  2.100840   \n",
       "1  2018-11-21  10.59  12.17  9.1900   9.19    7800  2.118848  2.434974   \n",
       "2  2018-11-23   9.80  11.00  9.7927  11.00    3019  1.960784  2.200880   \n",
       "3  2018-11-26   8.38   9.70  7.7600   9.70    5000  1.676671  1.940776   \n",
       "4  2018-11-27   8.96   9.00  8.5000   8.80    4400  1.792717  1.800720   \n",
       "\n",
       "     adjLow   adjOpen  adjVolume  divCash  splitFactor  \n",
       "0  1.670668  2.100840      87465      0.0          1.0  \n",
       "1  1.838735  1.838735      38984      0.0          1.0  \n",
       "2  1.959324  2.200880      15088      0.0          1.0  \n",
       "3  1.552621  1.940776      24990      0.0          1.0  \n",
       "4  1.700680  1.760704      21991      0.0          1.0  "
      ]
     },
     "execution_count": 53,
     "metadata": {},
     "output_type": "execute_result"
    }
   ],
   "source": [
    "df.head()"
   ]
  },
  {
   "cell_type": "code",
   "execution_count": 54,
   "id": "04c16627-c10c-4128-aafa-54a4036fd6ac",
   "metadata": {},
   "outputs": [],
   "source": [
    "df1 = df.reset_index()['close']"
   ]
  },
  {
   "cell_type": "code",
   "execution_count": 55,
   "id": "33122464-dc10-41e7-b6cb-6919ce4ca581",
   "metadata": {},
   "outputs": [
    {
     "data": {
      "text/plain": [
       "0     8.35\n",
       "1    10.59\n",
       "2     9.80\n",
       "3     8.38\n",
       "4     8.96\n",
       "Name: close, dtype: float64"
      ]
     },
     "execution_count": 55,
     "metadata": {},
     "output_type": "execute_result"
    }
   ],
   "source": [
    "df1.head()"
   ]
  },
  {
   "cell_type": "code",
   "execution_count": 56,
   "id": "a1e2314f-6f0b-4bfe-881d-034281907674",
   "metadata": {},
   "outputs": [
    {
     "data": {
      "text/plain": [
       "[<matplotlib.lines.Line2D at 0x20fefa97190>]"
      ]
     },
     "execution_count": 56,
     "metadata": {},
     "output_type": "execute_result"
    },
    {
     "data": {
      "image/png": "[encoded data removed]",
      "text/plain": [
       "<Figure size 432x288 with 1 Axes>"
      ]
     },
     "metadata": {
      "needs_background": "light"
     },
     "output_type": "display_data"
    }
   ],
   "source": [
    "plt.plot(df1)"
   ]
  },
  {
   "cell_type": "markdown",
   "id": "87010d21-078c-4f73-a5c6-d483d60e05f0",
   "metadata": {
    "tags": []
   },
   "source": [
    "### Data Preprocessing ###"
   ]
  },
  {
   "cell_type": "code",
   "execution_count": 60,
   "id": "459648a2-49fb-4114-abad-129e64ee5f92",
   "metadata": {},
   "outputs": [
    {
     "data": {
      "text/plain": [
       "array([[0.65786943],\n",
       "       [0.84850935],\n",
       "       [0.78127473],\n",
       "       [0.66042264],\n",
       "       [0.70978476]])"
      ]
     },
     "execution_count": 60,
     "metadata": {},
     "output_type": "execute_result"
    }
   ],
   "source": [
    "from sklearn.preprocessing import MinMaxScaler\n",
    "scaler = MinMaxScaler(feature_range = (0,1))\n",
    "df1 = scaler.fit_transform(np.array(df1).reshape(-1,1))\n",
    "df1[0:5,:]"
   ]
  },
  {
   "cell_type": "code",
   "execution_count": 61,
   "id": "9b7e3ea8-472a-48bc-8d59-0fdce624eb80",
   "metadata": {},
   "outputs": [],
   "source": [
    "training_size = int(len(df1)*.65)\n",
    "test_size = len(df1) - training_size\n",
    "train_data,test_data = df1[0:training_size,:],df1[training_size:len(df1),:1]"
   ]
  },
  {
   "cell_type": "code",
   "execution_count": 62,
   "id": "6cc41a4c-0ed4-4ff4-ad23-9cc0284fc64c",
   "metadata": {},
   "outputs": [
    {
     "data": {
      "text/plain": [
       "(575, 311)"
      ]
     },
     "execution_count": 62,
     "metadata": {},
     "output_type": "execute_result"
    }
   ],
   "source": [
    "training_size,test_size"
   ]
  },
  {
   "cell_type": "code",
   "execution_count": 63,
   "id": "21c5e546-c2a5-4d73-a500-ca95a62702a9",
   "metadata": {},
   "outputs": [],
   "source": [
    "def create_dataset(dataset,time_step = 1):\n",
    "    dataX,dataY = [],[]\n",
    "    for i in range(len(dataset)-time_step-1):\n",
    "        a = dataset[i:(i+time_step),0]\n",
    "        dataX.append(a)\n",
    "        dataY.append(dataset[i+time_step,0])\n",
    "    return np.array(dataX),np.array(dataY)"
   ]
  },
  {
   "cell_type": "code",
   "execution_count": 64,
   "id": "784fb008-76f9-4eb1-982c-6eacad2ed190",
   "metadata": {},
   "outputs": [],
   "source": [
    "step = 100\n",
    "X_train,y_train = create_dataset(train_data,step)\n",
    "X_test,y_test = create_dataset(test_data,step)"
   ]
  },
  {
   "cell_type": "code",
   "execution_count": 65,
   "id": "f827292d-7e8b-4cc4-b95b-6bf34fe86306",
   "metadata": {},
   "outputs": [
    {
     "name": "stdout",
     "output_type": "stream",
     "text": [
      "(474, 100) (474,)\n"
     ]
    }
   ],
   "source": [
    "print(X_train.shape,y_train.shape)"
   ]
  },
  {
   "cell_type": "code",
   "execution_count": 66,
   "id": "4314adbd-3378-4305-9dba-2c8c0c5c8b29",
   "metadata": {},
   "outputs": [],
   "source": [
    "X_train = X_train.reshape(X_train.shape[0],X_train.shape[1],1)\n",
    "X_test = X_test.reshape(X_test.shape[0],X_test.shape[1],1)"
   ]
  },
  {
   "cell_type": "markdown",
   "id": "69c44b36-2dc6-4c7d-8940-d3dac8af3fe2",
   "metadata": {
    "tags": []
   },
   "source": [
    "### Create Stacked LSTM Model ###"
   ]
  },
  {
   "cell_type": "code",
   "execution_count": 67,
   "id": "14ab9c9f-29c5-4f30-9692-2409fcc9f2dd",
   "metadata": {},
   "outputs": [],
   "source": [
    "from tensorflow.keras.models import Sequential\n",
    "from tensorflow.keras.layers import Dense\n",
    "from tensorflow.keras.layers import LSTM"
   ]
  },
  {
   "cell_type": "code",
   "execution_count": 68,
   "id": "ba2f14fe-eb29-40d1-b971-b739c694384e",
   "metadata": {},
   "outputs": [],
   "source": [
    "model = Sequential()\n",
    "model.add(LSTM(50,return_sequences = True,input_shape=(100,1)))\n",
    "model.add(LSTM(50,return_sequences = True))\n",
    "model.add(LSTM(50))\n",
    "model.add(Dense(1))\n",
    "model.compile(loss=\"mean_squared_error\",optimizer = \"adam\")"
   ]
  },
  {
   "cell_type": "code",
   "execution_count": 69,
   "id": "fc6a36cc-8a9c-4b4c-8bd0-9245f47a0108",
   "metadata": {},
   "outputs": [
    {
     "name": "stdout",
     "output_type": "stream",
     "text": [
      "Model: \"sequential_2\"\n",
      "_________________________________________________________________\n",
      " Layer (type)                Output Shape              Param #   \n",
      "=================================================================\n",
      " lstm_6 (LSTM)               (None, 100, 50)           10400     \n",
      "                                                                 \n",
      " lstm_7 (LSTM)               (None, 100, 50)           20200     \n",
      "                                                                 \n",
      " lstm_8 (LSTM)               (None, 50)                20200     \n",
      "                                                                 \n",
      " dense_2 (Dense)             (None, 1)                 51        \n",
      "                                                                 \n",
      "=================================================================\n",
      "Total params: 50,851\n",
      "Trainable params: 50,851\n",
      "Non-trainable params: 0\n",
      "_________________________________________________________________\n"
     ]
    }
   ],
   "source": [
    "model.summary()"
   ]
  },
  {
   "cell_type": "code",
   "execution_count": 70,
   "id": "7063bbf0-1bee-49f1-9c9d-235e77c40e2f",
   "metadata": {},
   "outputs": [
    {
     "name": "stdout",
     "output_type": "stream",
     "text": [
      "Epoch 1/100\n",
      "8/8 [==============================] - 5s 250ms/step - loss: 0.0825 - val_loss: 0.0295\n",
      "Epoch 2/100\n",
      "8/8 [==============================] - 1s 126ms/step - loss: 0.0235 - val_loss: 0.0047\n",
      "Epoch 3/100\n",
      "8/8 [==============================] - 1s 127ms/step - loss: 0.0172 - val_loss: 0.0135\n",
      "Epoch 4/100\n",
      "8/8 [==============================] - 1s 126ms/step - loss: 0.0125 - val_loss: 0.0063\n",
      "Epoch 5/100\n",
      "8/8 [==============================] - 1s 128ms/step - loss: 0.0112 - val_loss: 0.0044\n",
      "Epoch 6/100\n",
      "8/8 [==============================] - 1s 127ms/step - loss: 0.0097 - val_loss: 0.0026\n",
      "Epoch 7/100\n",
      "8/8 [==============================] - 1s 125ms/step - loss: 0.0092 - val_loss: 0.0014\n",
      "Epoch 8/100\n",
      "8/8 [==============================] - 1s 125ms/step - loss: 0.0088 - val_loss: 0.0010\n",
      "Epoch 9/100\n",
      "8/8 [==============================] - 1s 126ms/step - loss: 0.0084 - val_loss: 9.2743e-04\n",
      "Epoch 10/100\n",
      "8/8 [==============================] - 1s 125ms/step - loss: 0.0080 - val_loss: 8.3792e-04\n",
      "Epoch 11/100\n",
      "8/8 [==============================] - 1s 127ms/step - loss: 0.0079 - val_loss: 0.0016\n",
      "Epoch 12/100\n",
      "8/8 [==============================] - 1s 125ms/step - loss: 0.0075 - val_loss: 0.0018\n",
      "Epoch 13/100\n",
      "8/8 [==============================] - 1s 127ms/step - loss: 0.0070 - val_loss: 9.4292e-04\n",
      "Epoch 14/100\n",
      "8/8 [==============================] - 1s 126ms/step - loss: 0.0069 - val_loss: 0.0017\n",
      "Epoch 15/100\n",
      "8/8 [==============================] - 1s 127ms/step - loss: 0.0067 - val_loss: 3.3146e-04\n",
      "Epoch 16/100\n",
      "8/8 [==============================] - 1s 127ms/step - loss: 0.0065 - val_loss: 2.6139e-04\n",
      "Epoch 17/100\n",
      "8/8 [==============================] - 1s 126ms/step - loss: 0.0064 - val_loss: 7.1409e-04\n",
      "Epoch 18/100\n",
      "8/8 [==============================] - 1s 130ms/step - loss: 0.0057 - val_loss: 3.9862e-04\n",
      "Epoch 19/100\n",
      "8/8 [==============================] - 1s 127ms/step - loss: 0.0054 - val_loss: 1.7743e-04\n",
      "Epoch 20/100\n",
      "8/8 [==============================] - 1s 127ms/step - loss: 0.0052 - val_loss: 2.5570e-04\n",
      "Epoch 21/100\n",
      "8/8 [==============================] - 1s 128ms/step - loss: 0.0051 - val_loss: 1.5462e-04\n",
      "Epoch 22/100\n",
      "8/8 [==============================] - 1s 127ms/step - loss: 0.0048 - val_loss: 1.7179e-04\n",
      "Epoch 23/100\n",
      "8/8 [==============================] - 1s 125ms/step - loss: 0.0051 - val_loss: 1.9965e-04\n",
      "Epoch 24/100\n",
      "8/8 [==============================] - 1s 126ms/step - loss: 0.0049 - val_loss: 1.8677e-04\n",
      "Epoch 25/100\n",
      "8/8 [==============================] - 1s 127ms/step - loss: 0.0051 - val_loss: 1.8354e-04\n",
      "Epoch 26/100\n",
      "8/8 [==============================] - 1s 127ms/step - loss: 0.0048 - val_loss: 2.2477e-04\n",
      "Epoch 27/100\n",
      "8/8 [==============================] - 1s 129ms/step - loss: 0.0049 - val_loss: 1.6211e-04\n",
      "Epoch 28/100\n",
      "8/8 [==============================] - 1s 127ms/step - loss: 0.0049 - val_loss: 2.1470e-04\n",
      "Epoch 29/100\n",
      "8/8 [==============================] - 1s 132ms/step - loss: 0.0046 - val_loss: 1.4974e-04\n",
      "Epoch 30/100\n",
      "8/8 [==============================] - 1s 136ms/step - loss: 0.0046 - val_loss: 1.7245e-04\n",
      "Epoch 31/100\n",
      "8/8 [==============================] - 1s 130ms/step - loss: 0.0044 - val_loss: 1.6405e-04\n",
      "Epoch 32/100\n",
      "8/8 [==============================] - 1s 128ms/step - loss: 0.0047 - val_loss: 1.5284e-04\n",
      "Epoch 33/100\n",
      "8/8 [==============================] - 1s 130ms/step - loss: 0.0045 - val_loss: 1.9418e-04\n",
      "Epoch 34/100\n",
      "8/8 [==============================] - 1s 127ms/step - loss: 0.0045 - val_loss: 1.4730e-04\n",
      "Epoch 35/100\n",
      "8/8 [==============================] - 1s 128ms/step - loss: 0.0044 - val_loss: 1.4905e-04\n",
      "Epoch 36/100\n",
      "8/8 [==============================] - 1s 128ms/step - loss: 0.0043 - val_loss: 1.2757e-04\n",
      "Epoch 37/100\n",
      "8/8 [==============================] - 1s 129ms/step - loss: 0.0043 - val_loss: 1.4712e-04\n",
      "Epoch 38/100\n",
      "8/8 [==============================] - 1s 129ms/step - loss: 0.0042 - val_loss: 1.3611e-04\n",
      "Epoch 39/100\n",
      "8/8 [==============================] - 1s 127ms/step - loss: 0.0042 - val_loss: 1.2530e-04\n",
      "Epoch 40/100\n",
      "8/8 [==============================] - 1s 128ms/step - loss: 0.0041 - val_loss: 1.6694e-04\n",
      "Epoch 41/100\n",
      "8/8 [==============================] - 1s 127ms/step - loss: 0.0042 - val_loss: 2.3177e-04\n",
      "Epoch 42/100\n",
      "8/8 [==============================] - 1s 127ms/step - loss: 0.0040 - val_loss: 1.1061e-04\n",
      "Epoch 43/100\n",
      "8/8 [==============================] - 1s 126ms/step - loss: 0.0042 - val_loss: 1.2825e-04\n",
      "Epoch 44/100\n",
      "8/8 [==============================] - 1s 126ms/step - loss: 0.0040 - val_loss: 1.2834e-04\n",
      "Epoch 45/100\n",
      "8/8 [==============================] - 1s 126ms/step - loss: 0.0041 - val_loss: 1.0512e-04\n",
      "Epoch 46/100\n",
      "8/8 [==============================] - 1s 126ms/step - loss: 0.0042 - val_loss: 2.7689e-04\n",
      "Epoch 47/100\n",
      "8/8 [==============================] - 1s 127ms/step - loss: 0.0041 - val_loss: 2.1490e-04\n",
      "Epoch 48/100\n",
      "8/8 [==============================] - 1s 126ms/step - loss: 0.0041 - val_loss: 1.0449e-04\n",
      "Epoch 49/100\n",
      "8/8 [==============================] - 1s 127ms/step - loss: 0.0040 - val_loss: 1.1939e-04\n",
      "Epoch 50/100\n",
      "8/8 [==============================] - 1s 126ms/step - loss: 0.0038 - val_loss: 1.1616e-04\n",
      "Epoch 51/100\n",
      "8/8 [==============================] - 1s 125ms/step - loss: 0.0039 - val_loss: 1.0877e-04\n",
      "Epoch 52/100\n",
      "8/8 [==============================] - 1s 126ms/step - loss: 0.0040 - val_loss: 1.0632e-04\n",
      "Epoch 53/100\n",
      "8/8 [==============================] - 1s 126ms/step - loss: 0.0039 - val_loss: 1.5373e-04\n",
      "Epoch 54/100\n",
      "8/8 [==============================] - 1s 126ms/step - loss: 0.0037 - val_loss: 1.4590e-04\n",
      "Epoch 55/100\n",
      "8/8 [==============================] - 1s 126ms/step - loss: 0.0036 - val_loss: 1.0246e-04\n",
      "Epoch 56/100\n",
      "8/8 [==============================] - 1s 126ms/step - loss: 0.0039 - val_loss: 1.8151e-04\n",
      "Epoch 57/100\n",
      "8/8 [==============================] - 1s 126ms/step - loss: 0.0038 - val_loss: 3.0445e-04\n",
      "Epoch 58/100\n",
      "8/8 [==============================] - 1s 126ms/step - loss: 0.0036 - val_loss: 2.2387e-04\n",
      "Epoch 59/100\n",
      "8/8 [==============================] - 1s 126ms/step - loss: 0.0035 - val_loss: 1.1503e-04\n",
      "Epoch 60/100\n",
      "8/8 [==============================] - 1s 127ms/step - loss: 0.0035 - val_loss: 9.4790e-05\n",
      "Epoch 61/100\n",
      "8/8 [==============================] - 1s 127ms/step - loss: 0.0035 - val_loss: 1.6963e-04\n",
      "Epoch 62/100\n",
      "8/8 [==============================] - 1s 126ms/step - loss: 0.0034 - val_loss: 1.6610e-04\n",
      "Epoch 63/100\n",
      "8/8 [==============================] - 1s 125ms/step - loss: 0.0034 - val_loss: 1.2264e-04\n",
      "Epoch 64/100\n",
      "8/8 [==============================] - 1s 125ms/step - loss: 0.0035 - val_loss: 1.4658e-04\n",
      "Epoch 65/100\n",
      "8/8 [==============================] - 1s 125ms/step - loss: 0.0035 - val_loss: 1.0537e-04\n",
      "Epoch 66/100\n",
      "8/8 [==============================] - 1s 126ms/step - loss: 0.0038 - val_loss: 9.0489e-05\n",
      "Epoch 67/100\n",
      "8/8 [==============================] - 1s 126ms/step - loss: 0.0036 - val_loss: 1.0592e-04\n",
      "Epoch 68/100\n",
      "8/8 [==============================] - 1s 126ms/step - loss: 0.0034 - val_loss: 3.7453e-04\n",
      "Epoch 69/100\n",
      "8/8 [==============================] - 1s 125ms/step - loss: 0.0034 - val_loss: 1.4825e-04\n",
      "Epoch 70/100\n",
      "8/8 [==============================] - 1s 126ms/step - loss: 0.0033 - val_loss: 8.5455e-05\n",
      "Epoch 71/100\n",
      "8/8 [==============================] - 1s 126ms/step - loss: 0.0033 - val_loss: 1.1596e-04\n",
      "Epoch 72/100\n",
      "8/8 [==============================] - 1s 125ms/step - loss: 0.0040 - val_loss: 1.1162e-04\n",
      "Epoch 73/100\n",
      "8/8 [==============================] - 1s 126ms/step - loss: 0.0034 - val_loss: 2.4898e-04\n",
      "Epoch 74/100\n",
      "8/8 [==============================] - 1s 126ms/step - loss: 0.0030 - val_loss: 1.2391e-04\n",
      "Epoch 75/100\n",
      "8/8 [==============================] - 1s 126ms/step - loss: 0.0031 - val_loss: 1.1552e-04\n",
      "Epoch 76/100\n",
      "8/8 [==============================] - 1s 126ms/step - loss: 0.0032 - val_loss: 8.5650e-05\n",
      "Epoch 77/100\n",
      "8/8 [==============================] - 1s 127ms/step - loss: 0.0034 - val_loss: 1.4894e-04\n",
      "Epoch 78/100\n",
      "8/8 [==============================] - 1s 126ms/step - loss: 0.0031 - val_loss: 3.1214e-04\n",
      "Epoch 79/100\n",
      "8/8 [==============================] - 1s 126ms/step - loss: 0.0031 - val_loss: 1.6390e-04\n",
      "Epoch 80/100\n",
      "8/8 [==============================] - 1s 127ms/step - loss: 0.0030 - val_loss: 1.6385e-04\n",
      "Epoch 81/100\n",
      "8/8 [==============================] - 1s 126ms/step - loss: 0.0030 - val_loss: 1.1917e-04\n",
      "Epoch 82/100\n",
      "8/8 [==============================] - 1s 127ms/step - loss: 0.0028 - val_loss: 2.0912e-04\n",
      "Epoch 83/100\n",
      "8/8 [==============================] - 1s 127ms/step - loss: 0.0028 - val_loss: 1.3925e-04\n",
      "Epoch 84/100\n",
      "8/8 [==============================] - 1s 143ms/step - loss: 0.0026 - val_loss: 1.1694e-04\n",
      "Epoch 85/100\n",
      "8/8 [==============================] - 1s 127ms/step - loss: 0.0026 - val_loss: 1.4673e-04\n",
      "Epoch 86/100\n",
      "8/8 [==============================] - 1s 127ms/step - loss: 0.0030 - val_loss: 1.9132e-04\n",
      "Epoch 87/100\n",
      "8/8 [==============================] - 1s 127ms/step - loss: 0.0027 - val_loss: 2.8103e-04\n",
      "Epoch 88/100\n",
      "8/8 [==============================] - 1s 126ms/step - loss: 0.0025 - val_loss: 1.8784e-04\n",
      "Epoch 89/100\n",
      "8/8 [==============================] - 1s 127ms/step - loss: 0.0027 - val_loss: 1.9793e-04\n",
      "Epoch 90/100\n",
      "8/8 [==============================] - 1s 127ms/step - loss: 0.0024 - val_loss: 2.5335e-04\n",
      "Epoch 91/100\n",
      "8/8 [==============================] - 1s 128ms/step - loss: 0.0024 - val_loss: 1.8790e-04\n",
      "Epoch 92/100\n",
      "8/8 [==============================] - 1s 127ms/step - loss: 0.0025 - val_loss: 4.0971e-04\n",
      "Epoch 93/100\n",
      "8/8 [==============================] - 1s 128ms/step - loss: 0.0025 - val_loss: 1.8664e-04\n",
      "Epoch 94/100\n",
      "8/8 [==============================] - 1s 126ms/step - loss: 0.0024 - val_loss: 2.6422e-04\n",
      "Epoch 95/100\n",
      "8/8 [==============================] - 1s 126ms/step - loss: 0.0024 - val_loss: 3.4112e-04\n",
      "Epoch 96/100\n",
      "8/8 [==============================] - 1s 126ms/step - loss: 0.0023 - val_loss: 1.7921e-04\n",
      "Epoch 97/100\n",
      "8/8 [==============================] - 1s 126ms/step - loss: 0.0024 - val_loss: 2.6597e-04\n",
      "Epoch 98/100\n",
      "8/8 [==============================] - 1s 126ms/step - loss: 0.0025 - val_loss: 1.6061e-04\n",
      "Epoch 99/100\n",
      "8/8 [==============================] - 1s 126ms/step - loss: 0.0030 - val_loss: 2.0301e-04\n",
      "Epoch 100/100\n",
      "8/8 [==============================] - 1s 126ms/step - loss: 0.0028 - val_loss: 1.0585e-04\n"
     ]
    },
    {
     "data": {
      "text/plain": [
       "<keras.callbacks.History at 0x20fefc5eaf0>"
      ]
     },
     "execution_count": 70,
     "metadata": {},
     "output_type": "execute_result"
    }
   ],
   "source": [
    "model.fit(X_train,y_train,validation_data = (X_test,y_test),epochs=100,batch_size=64,verbose=1)"
   ]
  },
  {
   "cell_type": "markdown",
   "id": "da8595d1-605a-4a61-a653-834115e736d2",
   "metadata": {
    "tags": []
   },
   "source": [
    "### Predict test data and plot the output ###"
   ]
  },
  {
   "cell_type": "code",
   "execution_count": 71,
   "id": "1dc39c56-3cb9-4841-baee-36f3e9f8652b",
   "metadata": {},
   "outputs": [
    {
     "name": "stdout",
     "output_type": "stream",
     "text": [
      "15/15 [==============================] - 1s 24ms/step\n",
      "7/7 [==============================] - 0s 25ms/step\n"
     ]
    }
   ],
   "source": [
    "train_predict = model.predict(X_train)\n",
    "test_predict = model.predict(X_test)"
   ]
  },
  {
   "cell_type": "code",
   "execution_count": 72,
   "id": "783ae707-0e38-46cb-acd4-f98b8ca687f8",
   "metadata": {},
   "outputs": [],
   "source": [
    "train_predict = scaler.inverse_transform(train_predict)\n",
    "test_predict = scaler.inverse_transform(test_predict)"
   ]
  },
  {
   "cell_type": "code",
   "execution_count": 73,
   "id": "9c75620e-ad77-4447-911c-c813752dd220",
   "metadata": {},
   "outputs": [
    {
     "data": {
      "text/plain": [
       "0.05669116366918334"
      ]
     },
     "execution_count": 73,
     "metadata": {},
     "output_type": "execute_result"
    }
   ],
   "source": [
    "import math\n",
    "from sklearn.metrics import mean_squared_error\n",
    "math.sqrt(mean_squared_error(y_train,train_predict))"
   ]
  },
  {
   "cell_type": "code",
   "execution_count": 74,
   "id": "076ee685-6bf2-4f9d-8d24-7e6f84e50364",
   "metadata": {},
   "outputs": [
    {
     "data": {
      "text/plain": [
       "0.010288115027901674"
      ]
     },
     "execution_count": 74,
     "metadata": {},
     "output_type": "execute_result"
    }
   ],
   "source": [
    "math.sqrt(mean_squared_error(y_test,test_predict))"
   ]
  },
  {
   "cell_type": "code",
   "execution_count": 79,
   "id": "6f5f9a64-a987-48e3-909d-6136d9d218ce",
   "metadata": {},
   "outputs": [
    {
     "data": {
      "image/png": "[encoded data removed]",
      "text/plain": [
       "<Figure size 432x288 with 1 Axes>"
      ]
     },
     "metadata": {
      "needs_background": "light"
     },
     "output_type": "display_data"
    }
   ],
   "source": [
    "look_back = 100\n",
    "trainPredictPlot = np.empty_like(df1)\n",
    "trainPredictPlot[:,:] = np.nan\n",
    "trainPredictPlot [look_back:len(train_predict)+look_back,:] = train_predict\n",
    "\n",
    "testPredictPlot = np.empty_like(df1)\n",
    "testPredictPlot[:,:] = np.nan\n",
    "testPredictPlot[len(train_predict)+(look_back*2)+1:len(df1)-1,:] = test_predict\n",
    "\n",
    "plt.plot(scaler.inverse_transform(df1))\n",
    "plt.plot(trainPredictPlot)\n",
    "plt.plot(testPredictPlot)\n",
    "#plt.xlim([200,250])\n",
    "plt.show()"
   ]
  },
  {
   "cell_type": "markdown",
   "id": "8366dd2f-ba2f-4364-8339-2b14961e5436",
   "metadata": {
    "tags": []
   },
   "source": [
    "### Predict the next 30 days ###"
   ]
  },
  {
   "cell_type": "code",
   "execution_count": 80,
   "id": "a52f7172-7245-4059-b70a-81f15a886190",
   "metadata": {},
   "outputs": [
    {
     "data": {
      "text/plain": [
       "311"
      ]
     },
     "execution_count": 80,
     "metadata": {},
     "output_type": "execute_result"
    }
   ],
   "source": [
    "len(test_data)"
   ]
  },
  {
   "cell_type": "code",
   "execution_count": 81,
   "id": "a07e3fcf-fa34-48e6-898d-f82c21ae1e7c",
   "metadata": {},
   "outputs": [
    {
     "data": {
      "text/plain": [
       "(1, 100)"
      ]
     },
     "execution_count": 81,
     "metadata": {},
     "output_type": "execute_result"
    }
   ],
   "source": [
    "x_input = test_data[211:].reshape(1,-1)\n",
    "x_input.shape"
   ]
  },
  {
   "cell_type": "code",
   "execution_count": 82,
   "id": "eaa491d8-b376-45ba-9abd-423ccf9e47a3",
   "metadata": {},
   "outputs": [],
   "source": [
    "temp_input=list(x_input)\n",
    "temp_input = temp_input[0].tolist()"
   ]
  },
  {
   "cell_type": "code",
   "execution_count": 83,
   "id": "4436f00e-1416-4764-8787-9c9ac74b73c8",
   "metadata": {},
   "outputs": [
    {
     "data": {
      "text/plain": [
       "[0.03488540328002792,\n",
       " 0.03403433220708262,\n",
       " 0.03188963310326046,\n",
       " 0.02692788874798934,\n",
       " 0.022485297747214868,\n",
       " 0.02280019404420463,\n",
       " 0.017685256895803365,\n",
       " 0.017863981821121873,\n",
       " 0.022093805053660036,\n",
       " 0.020400173618498878,\n",
       " 0.023676797249338292,\n",
       " 0.015540557791981206,\n",
       " 0.01740440344173142,\n",
       " 0.019566123967012482,\n",
       " 0.014417143975693415,\n",
       " 0.01955761325628303,\n",
       " 0.015404386420309966,\n",
       " 0.017863981821121873,\n",
       " 0.01692780364088204,\n",
       " 0.017540574813402675,\n",
       " 0.015259704337909262,\n",
       " 0.01305543025898092,\n",
       " 0.011821377203210241,\n",
       " 0.013608626456395372,\n",
       " 0.01084264546932314,\n",
       " 0.014459697529340683,\n",
       " 0.010195831453884717,\n",
       " 0.005736219031651335,\n",
       " 0.006766015029915147,\n",
       " 0.007642618235048804,\n",
       " 0.008238367986110516,\n",
       " 0.0040851411501374515,\n",
       " 0.0036681163243942536,\n",
       " 0.003404284291781204,\n",
       " 0.0,\n",
       " 0.0042468446539970575,\n",
       " 0.0025532132188359064,\n",
       " 0.01284266249074461,\n",
       " 0.016587375211703927,\n",
       " 0.021123584030502386,\n",
       " 0.025242768023557648,\n",
       " 0.01659588592243339,\n",
       " 0.014289483314751612,\n",
       " 0.009591570992093547,\n",
       " 0.02856194520804433,\n",
       " 0.03573647435297322,\n",
       " 0.03658754542591853,\n",
       " 0.030170469535910953,\n",
       " 0.03403433220708262,\n",
       " 0.039140758644754435,\n",
       " 0.04594932722831683,\n",
       " 0.04850254044715275,\n",
       " 0.05190682473893395,\n",
       " 0.05360896688482456,\n",
       " 0.04169397186359034,\n",
       " 0.04594932722831683,\n",
       " 0.03828968757180914,\n",
       " 0.03828968757180914,\n",
       " 0.03999182971769973,\n",
       " 0.03658754542591853,\n",
       " 0.03658754542591853,\n",
       " 0.03573647435297322,\n",
       " 0.03658754542591853,\n",
       " 0.03488540328002792,\n",
       " 0.037438616498863826,\n",
       " 0.0352683852628533,\n",
       " 0.030630047915301405,\n",
       " 0.029778976842356107,\n",
       " 0.029787487553085558,\n",
       " 0.028068323985736048,\n",
       " 0.020417195039957793,\n",
       " 0.027587468829521962,\n",
       " 0.02126826611290309,\n",
       " 0.0280768346964655,\n",
       " 0.032332190061192013,\n",
       " 0.023395943795266348,\n",
       " 0.02908543902501299,\n",
       " 0.031481118988246716,\n",
       " 0.03573647435297322,\n",
       " 0.03403433220708262,\n",
       " 0.03403433220708262,\n",
       " 0.024672550404684294,\n",
       " 0.025523621477629606,\n",
       " 0.024672550404684294,\n",
       " 0.020425705750687244,\n",
       " 0.016170350385960743,\n",
       " 0.016161839675231278,\n",
       " 0.009353271091668863,\n",
       " 0.011408692839939068,\n",
       " 0.013821309117524404,\n",
       " 0.02014493740372259,\n",
       " 0.023821479331738997,\n",
       " 0.019574634677741932,\n",
       " 0.023821479331738997,\n",
       " 0.020417195039957793,\n",
       " 0.0077107039208844305,\n",
       " 0.005097915726942362,\n",
       " 0.007225593409305606,\n",
       " 0.004144716125243614,\n",
       " 0.0034000289364164785]"
      ]
     },
     "execution_count": 83,
     "metadata": {},
     "output_type": "execute_result"
    }
   ],
   "source": [
    "temp_input"
   ]
  },
  {
   "cell_type": "code",
   "execution_count": null,
   "id": "d1c83170-64ca-4825-8608-38dcc4b2206e",
   "metadata": {},
   "outputs": [],
   "source": [
    "#get prediction for next 10 days\n",
    "from numpy import array\n",
    "\n",
    "lst_output = []\n",
    "n_steps = 100\n",
    "i = 0\n",
    "while(i<30):\n",
    "    if (len(temp_input)>100):\n",
    "        x_input = np.array(temp_input[1:])\n",
    "        print(\"{} day input {}\".format(i,x_input))\n",
    "        x_input = x_input.reshape(1,-1)\n",
    "        x_input = x_input.reshape((1,n_steps,1))\n",
    "        yhat = model.predict(x_input,verbose=0)\n",
    "        print(\"{} day output {}\".format(i,yhat))\n",
    "        temp_input.extend(yhat[0].tolist())\n",
    "        temp_input = temp_input[1:]\n",
    "        lst_output.extend(yhat.tolist())\n",
    "        i=i+1\n",
    "    else:\n",
    "        x_input = x_input.reshape((1, n_steps,1))\n",
    "        yhat = model.predict(x_input,verbose=0)\n",
    "        print(yhat[0])\n",
    "        temp_input.extend(yhat[0].tolist())\n",
    "        print(len(temp_input))\n",
    "        lst_output.extend(yhat.tolist())\n",
    "        i=i+1\n",
    "        \n",
    "print(lst_output)"
   ]
  },
  {
   "cell_type": "code",
   "execution_count": 85,
   "id": "9dd9a120-f372-46dd-bb61-623c8d82a244",
   "metadata": {},
   "outputs": [],
   "source": [
    "day_new=np.arange(1,101)\n",
    "day_pred = np.arange(101,131)"
   ]
  },
  {
   "cell_type": "code",
   "execution_count": 86,
   "id": "538e3ad9-243d-4b82-8b78-84fdb967a919",
   "metadata": {},
   "outputs": [],
   "source": [
    "import matplotlib.pyplot as plt"
   ]
  },
  {
   "cell_type": "code",
   "execution_count": 87,
   "id": "20c59dba-a3ed-48b9-90fa-258655c96d91",
   "metadata": {},
   "outputs": [
    {
     "data": {
      "text/plain": [
       "886"
      ]
     },
     "execution_count": 87,
     "metadata": {},
     "output_type": "execute_result"
    }
   ],
   "source": [
    "len(df1)"
   ]
  },
  {
   "cell_type": "code",
   "execution_count": 89,
   "id": "755ad2cd-e675-4bf7-acfb-ee1e9228bdef",
   "metadata": {},
   "outputs": [],
   "source": [
    "df3 = df1.tolist()\n",
    "df3.extend(lst_output)"
   ]
  },
  {
   "cell_type": "code",
   "execution_count": 91,
   "id": "38cb95c9-e421-4131-8fe4-9cc82a6eb49f",
   "metadata": {},
   "outputs": [
    {
     "data": {
      "text/plain": [
       "[<matplotlib.lines.Line2D at 0x20fefa593d0>]"
      ]
     },
     "execution_count": 91,
     "metadata": {},
     "output_type": "execute_result"
    },
    {
     "data": {
      "image/png": "[encoded data removed]",
      "text/plain": [
       "<Figure size 432x288 with 1 Axes>"
      ]
     },
     "metadata": {
      "needs_background": "light"
     },
     "output_type": "display_data"
    }
   ],
   "source": [
    "plt.plot(day_new,scaler.inverse_transform(df1[786:]))\n",
    "plt.plot(day_pred,scaler.inverse_transform(lst_output))"
   ]
  },
  {
   "cell_type": "code",
   "execution_count": 93,
   "id": "215af4f0-f55a-4e3f-b9eb-f9d1c8f4f021",
   "metadata": {},
   "outputs": [
    {
     "data": {
      "text/plain": [
       "[<matplotlib.lines.Line2D at 0x20ff210bb80>]"
      ]
     },
     "execution_count": 93,
     "metadata": {},
     "output_type": "execute_result"
    },
    {
     "data": {
      "image/png": "[encoded data removed]",
      "text/plain": [
       "<Figure size 432x288 with 1 Axes>"
      ]
     },
     "metadata": {
      "needs_background": "light"
     },
     "output_type": "display_data"
    }
   ],
   "source": [
    "df3=df1.tolist()\n",
    "df3.extend(lst_output)\n",
    "plt.plot(df3[800:])"
   ]
  }
 ],
 "metadata": {
  "kernelspec": {
   "display_name": "Python 3 (ipykernel)",
   "language": "python",
   "name": "python3"
  },
  "language_info": {
   "codemirror_mode": {
    "name": "ipython",
    "version": 3
   },
   "file_extension": ".py",
   "mimetype": "text/x-python",
   "name": "python",
   "nbconvert_exporter": "python",
   "pygments_lexer": "ipython3",
   "version": "3.9.7"
  }
 },
 "nbformat": 4,
 "nbformat_minor": 5
}
